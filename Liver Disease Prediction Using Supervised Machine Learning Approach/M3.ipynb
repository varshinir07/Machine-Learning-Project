{
 "cells": [
  {
   "cell_type": "markdown",
   "metadata": {},
   "source": [
    "# Module 3 : Implementaion of Logistic regression  algorithm"
   ]
  },
  {
   "cell_type": "code",
   "execution_count": 1,
   "metadata": {},
   "outputs": [],
   "source": [
    "import pandas as pd"
   ]
  },
  {
   "cell_type": "code",
   "execution_count": 2,
   "metadata": {},
   "outputs": [],
   "source": [
    "import numpy as np"
   ]
  },
  {
   "cell_type": "code",
   "execution_count": 3,
   "metadata": {},
   "outputs": [],
   "source": [
    "import matplotlib.pyplot as plt\n",
    "import seaborn as sns"
   ]
  },
  {
   "cell_type": "code",
   "execution_count": 4,
   "metadata": {},
   "outputs": [],
   "source": [
    "# warning\n",
    "import warnings\n",
    "warnings.filterwarnings(\"ignore\")"
   ]
  },
  {
   "cell_type": "code",
   "execution_count": 5,
   "metadata": {},
   "outputs": [],
   "source": [
    "# load given data\n",
    "data = pd.read_csv(\"data1.csv\")"
   ]
  },
  {
   "cell_type": "code",
   "execution_count": 6,
   "metadata": {},
   "outputs": [
    {
     "data": {
      "text/html": [
       "<div>\n",
       "<style scoped>\n",
       "    .dataframe tbody tr th:only-of-type {\n",
       "        vertical-align: middle;\n",
       "    }\n",
       "\n",
       "    .dataframe tbody tr th {\n",
       "        vertical-align: top;\n",
       "    }\n",
       "\n",
       "    .dataframe thead th {\n",
       "        text-align: right;\n",
       "    }\n",
       "</style>\n",
       "<table border=\"1\" class=\"dataframe\">\n",
       "  <thead>\n",
       "    <tr style=\"text-align: right;\">\n",
       "      <th></th>\n",
       "      <th>S.NO</th>\n",
       "      <th>Age</th>\n",
       "      <th>Gender</th>\n",
       "      <th>Total_Bilirubin</th>\n",
       "      <th>Direct_Bilirubin</th>\n",
       "      <th>Alkaline_Phosphotase</th>\n",
       "      <th>Alamine_Aminotransferase</th>\n",
       "      <th>Aspartate_Aminotransferase</th>\n",
       "      <th>Total_Protiens</th>\n",
       "      <th>Albumin</th>\n",
       "      <th>Albumin_and_Globulin_Ratio</th>\n",
       "      <th>Dataset</th>\n",
       "    </tr>\n",
       "  </thead>\n",
       "  <tbody>\n",
       "    <tr>\n",
       "      <th>0</th>\n",
       "      <td>0</td>\n",
       "      <td>65</td>\n",
       "      <td>Female</td>\n",
       "      <td>0.7</td>\n",
       "      <td>0.1</td>\n",
       "      <td>187</td>\n",
       "      <td>16</td>\n",
       "      <td>18</td>\n",
       "      <td>6.8</td>\n",
       "      <td>3.3</td>\n",
       "      <td>0.90</td>\n",
       "      <td>1</td>\n",
       "    </tr>\n",
       "    <tr>\n",
       "      <th>1</th>\n",
       "      <td>1</td>\n",
       "      <td>62</td>\n",
       "      <td>Male</td>\n",
       "      <td>10.9</td>\n",
       "      <td>5.5</td>\n",
       "      <td>699</td>\n",
       "      <td>64</td>\n",
       "      <td>100</td>\n",
       "      <td>7.5</td>\n",
       "      <td>3.2</td>\n",
       "      <td>0.74</td>\n",
       "      <td>1</td>\n",
       "    </tr>\n",
       "    <tr>\n",
       "      <th>2</th>\n",
       "      <td>2</td>\n",
       "      <td>62</td>\n",
       "      <td>Male</td>\n",
       "      <td>7.3</td>\n",
       "      <td>4.1</td>\n",
       "      <td>490</td>\n",
       "      <td>60</td>\n",
       "      <td>68</td>\n",
       "      <td>7.0</td>\n",
       "      <td>3.3</td>\n",
       "      <td>0.89</td>\n",
       "      <td>1</td>\n",
       "    </tr>\n",
       "    <tr>\n",
       "      <th>3</th>\n",
       "      <td>3</td>\n",
       "      <td>58</td>\n",
       "      <td>Male</td>\n",
       "      <td>1.0</td>\n",
       "      <td>0.4</td>\n",
       "      <td>182</td>\n",
       "      <td>14</td>\n",
       "      <td>20</td>\n",
       "      <td>6.8</td>\n",
       "      <td>3.4</td>\n",
       "      <td>1.00</td>\n",
       "      <td>1</td>\n",
       "    </tr>\n",
       "    <tr>\n",
       "      <th>4</th>\n",
       "      <td>4</td>\n",
       "      <td>72</td>\n",
       "      <td>Male</td>\n",
       "      <td>3.9</td>\n",
       "      <td>2.0</td>\n",
       "      <td>195</td>\n",
       "      <td>27</td>\n",
       "      <td>59</td>\n",
       "      <td>7.3</td>\n",
       "      <td>2.4</td>\n",
       "      <td>0.40</td>\n",
       "      <td>1</td>\n",
       "    </tr>\n",
       "  </tbody>\n",
       "</table>\n",
       "</div>"
      ],
      "text/plain": [
       "   S.NO  Age  Gender  Total_Bilirubin  Direct_Bilirubin  Alkaline_Phosphotase  \\\n",
       "0     0   65  Female              0.7               0.1                   187   \n",
       "1     1   62    Male             10.9               5.5                   699   \n",
       "2     2   62    Male              7.3               4.1                   490   \n",
       "3     3   58    Male              1.0               0.4                   182   \n",
       "4     4   72    Male              3.9               2.0                   195   \n",
       "\n",
       "   Alamine_Aminotransferase  Aspartate_Aminotransferase  Total_Protiens  \\\n",
       "0                        16                          18             6.8   \n",
       "1                        64                         100             7.5   \n",
       "2                        60                          68             7.0   \n",
       "3                        14                          20             6.8   \n",
       "4                        27                          59             7.3   \n",
       "\n",
       "   Albumin  Albumin_and_Globulin_Ratio  Dataset  \n",
       "0      3.3                        0.90        1  \n",
       "1      3.2                        0.74        1  \n",
       "2      3.3                        0.89        1  \n",
       "3      3.4                        1.00        1  \n",
       "4      2.4                        0.40        1  "
      ]
     },
     "execution_count": 6,
     "metadata": {},
     "output_type": "execute_result"
    }
   ],
   "source": [
    "data.head()"
   ]
  },
  {
   "cell_type": "code",
   "execution_count": 7,
   "metadata": {},
   "outputs": [
    {
     "data": {
      "text/plain": [
       "0"
      ]
     },
     "execution_count": 7,
     "metadata": {},
     "output_type": "execute_result"
    }
   ],
   "source": [
    "data.duplicated().sum()"
   ]
  },
  {
   "cell_type": "code",
   "execution_count": 8,
   "metadata": {},
   "outputs": [
    {
     "data": {
      "text/plain": [
       "(5830, 12)"
      ]
     },
     "execution_count": 8,
     "metadata": {},
     "output_type": "execute_result"
    }
   ],
   "source": [
    "data.shape"
   ]
  },
  {
   "cell_type": "code",
   "execution_count": 9,
   "metadata": {},
   "outputs": [],
   "source": [
    "data = data.drop_duplicates()"
   ]
  },
  {
   "cell_type": "code",
   "execution_count": 10,
   "metadata": {},
   "outputs": [
    {
     "data": {
      "text/plain": [
       "(5830, 12)"
      ]
     },
     "execution_count": 10,
     "metadata": {},
     "output_type": "execute_result"
    }
   ],
   "source": [
    "data.shape"
   ]
  },
  {
   "cell_type": "code",
   "execution_count": 11,
   "metadata": {},
   "outputs": [
    {
     "data": {
      "text/plain": [
       "S.NO                           0\n",
       "Age                            0\n",
       "Gender                         0\n",
       "Total_Bilirubin                0\n",
       "Direct_Bilirubin               0\n",
       "Alkaline_Phosphotase           0\n",
       "Alamine_Aminotransferase       0\n",
       "Aspartate_Aminotransferase     0\n",
       "Total_Protiens                 0\n",
       "Albumin                        0\n",
       "Albumin_and_Globulin_Ratio    40\n",
       "Dataset                        0\n",
       "dtype: int64"
      ]
     },
     "execution_count": 11,
     "metadata": {},
     "output_type": "execute_result"
    }
   ],
   "source": [
    "data.isnull().sum()"
   ]
  },
  {
   "cell_type": "code",
   "execution_count": 12,
   "metadata": {},
   "outputs": [],
   "source": [
    "df=data.dropna()"
   ]
  },
  {
   "cell_type": "code",
   "execution_count": 13,
   "metadata": {},
   "outputs": [
    {
     "data": {
      "text/plain": [
       "(5790, 12)"
      ]
     },
     "execution_count": 13,
     "metadata": {},
     "output_type": "execute_result"
    }
   ],
   "source": [
    "df.shape"
   ]
  },
  {
   "cell_type": "code",
   "execution_count": 14,
   "metadata": {},
   "outputs": [
    {
     "data": {
      "text/plain": [
       "S.NO                          0\n",
       "Age                           0\n",
       "Gender                        0\n",
       "Total_Bilirubin               0\n",
       "Direct_Bilirubin              0\n",
       "Alkaline_Phosphotase          0\n",
       "Alamine_Aminotransferase      0\n",
       "Aspartate_Aminotransferase    0\n",
       "Total_Protiens                0\n",
       "Albumin                       0\n",
       "Albumin_and_Globulin_Ratio    0\n",
       "Dataset                       0\n",
       "dtype: int64"
      ]
     },
     "execution_count": 14,
     "metadata": {},
     "output_type": "execute_result"
    }
   ],
   "source": [
    "df.isnull().sum()"
   ]
  },
  {
   "cell_type": "code",
   "execution_count": 15,
   "metadata": {},
   "outputs": [],
   "source": [
    "#changing feature name\n",
    "df = df.rename({'Dataset': 'Result'}, axis=1) "
   ]
  },
  {
   "cell_type": "code",
   "execution_count": 16,
   "metadata": {},
   "outputs": [
    {
     "data": {
      "text/plain": [
       "Index(['S.NO', 'Age', 'Gender', 'Total_Bilirubin', 'Direct_Bilirubin',\n",
       "       'Alkaline_Phosphotase', 'Alamine_Aminotransferase',\n",
       "       'Aspartate_Aminotransferase', 'Total_Protiens', 'Albumin',\n",
       "       'Albumin_and_Globulin_Ratio', 'Result'],\n",
       "      dtype='object')"
      ]
     },
     "execution_count": 16,
     "metadata": {},
     "output_type": "execute_result"
    }
   ],
   "source": [
    "df.columns"
   ]
  },
  {
   "cell_type": "code",
   "execution_count": 17,
   "metadata": {},
   "outputs": [],
   "source": [
    "from sklearn.preprocessing import LabelEncoder\n",
    "var_mod = ['Gender']\n",
    "le = LabelEncoder()\n",
    "for i in var_mod:\n",
    "    df[i] = le.fit_transform(df[i]).astype(int)\n"
   ]
  },
  {
   "cell_type": "code",
   "execution_count": 18,
   "metadata": {},
   "outputs": [
    {
     "data": {
      "text/plain": [
       "1    4140\n",
       "2    1650\n",
       "Name: Result, dtype: int64"
      ]
     },
     "execution_count": 18,
     "metadata": {},
     "output_type": "execute_result"
    }
   ],
   "source": [
    "df.Result.value_counts()"
   ]
  },
  {
   "cell_type": "code",
   "execution_count": 19,
   "metadata": {},
   "outputs": [
    {
     "data": {
      "text/html": [
       "<div>\n",
       "<style scoped>\n",
       "    .dataframe tbody tr th:only-of-type {\n",
       "        vertical-align: middle;\n",
       "    }\n",
       "\n",
       "    .dataframe tbody tr th {\n",
       "        vertical-align: top;\n",
       "    }\n",
       "\n",
       "    .dataframe thead th {\n",
       "        text-align: right;\n",
       "    }\n",
       "</style>\n",
       "<table border=\"1\" class=\"dataframe\">\n",
       "  <thead>\n",
       "    <tr style=\"text-align: right;\">\n",
       "      <th></th>\n",
       "      <th>S.NO</th>\n",
       "      <th>Age</th>\n",
       "      <th>Gender</th>\n",
       "      <th>Total_Bilirubin</th>\n",
       "      <th>Direct_Bilirubin</th>\n",
       "      <th>Alkaline_Phosphotase</th>\n",
       "      <th>Alamine_Aminotransferase</th>\n",
       "      <th>Aspartate_Aminotransferase</th>\n",
       "      <th>Total_Protiens</th>\n",
       "      <th>Albumin</th>\n",
       "      <th>Albumin_and_Globulin_Ratio</th>\n",
       "      <th>Result</th>\n",
       "    </tr>\n",
       "  </thead>\n",
       "  <tbody>\n",
       "    <tr>\n",
       "      <th>S.NO</th>\n",
       "      <td>1.000000</td>\n",
       "      <td>-0.005243</td>\n",
       "      <td>-0.003192</td>\n",
       "      <td>0.010129</td>\n",
       "      <td>0.013613</td>\n",
       "      <td>-0.007964</td>\n",
       "      <td>-0.012584</td>\n",
       "      <td>-0.009487</td>\n",
       "      <td>0.019032</td>\n",
       "      <td>0.006630</td>\n",
       "      <td>-0.002493</td>\n",
       "      <td>0.001859</td>\n",
       "    </tr>\n",
       "    <tr>\n",
       "      <th>Age</th>\n",
       "      <td>-0.005243</td>\n",
       "      <td>1.000000</td>\n",
       "      <td>0.055881</td>\n",
       "      <td>0.011000</td>\n",
       "      <td>0.006784</td>\n",
       "      <td>0.078878</td>\n",
       "      <td>-0.087799</td>\n",
       "      <td>-0.020499</td>\n",
       "      <td>-0.186248</td>\n",
       "      <td>-0.264211</td>\n",
       "      <td>-0.216408</td>\n",
       "      <td>-0.133164</td>\n",
       "    </tr>\n",
       "    <tr>\n",
       "      <th>Gender</th>\n",
       "      <td>-0.003192</td>\n",
       "      <td>0.055881</td>\n",
       "      <td>1.000000</td>\n",
       "      <td>0.088068</td>\n",
       "      <td>0.099160</td>\n",
       "      <td>-0.029368</td>\n",
       "      <td>0.081339</td>\n",
       "      <td>0.079421</td>\n",
       "      <td>-0.095149</td>\n",
       "      <td>-0.095579</td>\n",
       "      <td>-0.003424</td>\n",
       "      <td>-0.081349</td>\n",
       "    </tr>\n",
       "    <tr>\n",
       "      <th>Total_Bilirubin</th>\n",
       "      <td>0.010129</td>\n",
       "      <td>0.011000</td>\n",
       "      <td>0.088068</td>\n",
       "      <td>1.000000</td>\n",
       "      <td>0.874481</td>\n",
       "      <td>0.205739</td>\n",
       "      <td>0.213375</td>\n",
       "      <td>0.237323</td>\n",
       "      <td>-0.007906</td>\n",
       "      <td>-0.222087</td>\n",
       "      <td>-0.206267</td>\n",
       "      <td>-0.220218</td>\n",
       "    </tr>\n",
       "    <tr>\n",
       "      <th>Direct_Bilirubin</th>\n",
       "      <td>0.013613</td>\n",
       "      <td>0.006784</td>\n",
       "      <td>0.099160</td>\n",
       "      <td>0.874481</td>\n",
       "      <td>1.000000</td>\n",
       "      <td>0.234008</td>\n",
       "      <td>0.233180</td>\n",
       "      <td>0.257022</td>\n",
       "      <td>0.000033</td>\n",
       "      <td>-0.228409</td>\n",
       "      <td>-0.200125</td>\n",
       "      <td>-0.246273</td>\n",
       "    </tr>\n",
       "    <tr>\n",
       "      <th>Alkaline_Phosphotase</th>\n",
       "      <td>-0.007964</td>\n",
       "      <td>0.078878</td>\n",
       "      <td>-0.029368</td>\n",
       "      <td>0.205739</td>\n",
       "      <td>0.234008</td>\n",
       "      <td>1.000000</td>\n",
       "      <td>0.124777</td>\n",
       "      <td>0.166580</td>\n",
       "      <td>-0.027062</td>\n",
       "      <td>-0.163419</td>\n",
       "      <td>-0.234166</td>\n",
       "      <td>-0.183363</td>\n",
       "    </tr>\n",
       "    <tr>\n",
       "      <th>Alamine_Aminotransferase</th>\n",
       "      <td>-0.012584</td>\n",
       "      <td>-0.087799</td>\n",
       "      <td>0.081339</td>\n",
       "      <td>0.213375</td>\n",
       "      <td>0.233180</td>\n",
       "      <td>0.124777</td>\n",
       "      <td>1.000000</td>\n",
       "      <td>0.791862</td>\n",
       "      <td>-0.042432</td>\n",
       "      <td>-0.028658</td>\n",
       "      <td>-0.002375</td>\n",
       "      <td>-0.163117</td>\n",
       "    </tr>\n",
       "    <tr>\n",
       "      <th>Aspartate_Aminotransferase</th>\n",
       "      <td>-0.009487</td>\n",
       "      <td>-0.020499</td>\n",
       "      <td>0.079421</td>\n",
       "      <td>0.237323</td>\n",
       "      <td>0.257022</td>\n",
       "      <td>0.166580</td>\n",
       "      <td>0.791862</td>\n",
       "      <td>1.000000</td>\n",
       "      <td>-0.025751</td>\n",
       "      <td>-0.084915</td>\n",
       "      <td>-0.070040</td>\n",
       "      <td>-0.151834</td>\n",
       "    </tr>\n",
       "    <tr>\n",
       "      <th>Total_Protiens</th>\n",
       "      <td>0.019032</td>\n",
       "      <td>-0.186248</td>\n",
       "      <td>-0.095149</td>\n",
       "      <td>-0.007906</td>\n",
       "      <td>0.000033</td>\n",
       "      <td>-0.027062</td>\n",
       "      <td>-0.042432</td>\n",
       "      <td>-0.025751</td>\n",
       "      <td>1.000000</td>\n",
       "      <td>0.783112</td>\n",
       "      <td>0.234887</td>\n",
       "      <td>0.033614</td>\n",
       "    </tr>\n",
       "    <tr>\n",
       "      <th>Albumin</th>\n",
       "      <td>0.006630</td>\n",
       "      <td>-0.264211</td>\n",
       "      <td>-0.095579</td>\n",
       "      <td>-0.222087</td>\n",
       "      <td>-0.228409</td>\n",
       "      <td>-0.163419</td>\n",
       "      <td>-0.028658</td>\n",
       "      <td>-0.084915</td>\n",
       "      <td>0.783112</td>\n",
       "      <td>1.000000</td>\n",
       "      <td>0.689632</td>\n",
       "      <td>0.159770</td>\n",
       "    </tr>\n",
       "    <tr>\n",
       "      <th>Albumin_and_Globulin_Ratio</th>\n",
       "      <td>-0.002493</td>\n",
       "      <td>-0.216408</td>\n",
       "      <td>-0.003424</td>\n",
       "      <td>-0.206267</td>\n",
       "      <td>-0.200125</td>\n",
       "      <td>-0.234166</td>\n",
       "      <td>-0.002375</td>\n",
       "      <td>-0.070040</td>\n",
       "      <td>0.234887</td>\n",
       "      <td>0.689632</td>\n",
       "      <td>1.000000</td>\n",
       "      <td>0.163131</td>\n",
       "    </tr>\n",
       "    <tr>\n",
       "      <th>Result</th>\n",
       "      <td>0.001859</td>\n",
       "      <td>-0.133164</td>\n",
       "      <td>-0.081349</td>\n",
       "      <td>-0.220218</td>\n",
       "      <td>-0.246273</td>\n",
       "      <td>-0.183363</td>\n",
       "      <td>-0.163117</td>\n",
       "      <td>-0.151834</td>\n",
       "      <td>0.033614</td>\n",
       "      <td>0.159770</td>\n",
       "      <td>0.163131</td>\n",
       "      <td>1.000000</td>\n",
       "    </tr>\n",
       "  </tbody>\n",
       "</table>\n",
       "</div>"
      ],
      "text/plain": [
       "                                S.NO       Age    Gender  Total_Bilirubin  \\\n",
       "S.NO                        1.000000 -0.005243 -0.003192         0.010129   \n",
       "Age                        -0.005243  1.000000  0.055881         0.011000   \n",
       "Gender                     -0.003192  0.055881  1.000000         0.088068   \n",
       "Total_Bilirubin             0.010129  0.011000  0.088068         1.000000   \n",
       "Direct_Bilirubin            0.013613  0.006784  0.099160         0.874481   \n",
       "Alkaline_Phosphotase       -0.007964  0.078878 -0.029368         0.205739   \n",
       "Alamine_Aminotransferase   -0.012584 -0.087799  0.081339         0.213375   \n",
       "Aspartate_Aminotransferase -0.009487 -0.020499  0.079421         0.237323   \n",
       "Total_Protiens              0.019032 -0.186248 -0.095149        -0.007906   \n",
       "Albumin                     0.006630 -0.264211 -0.095579        -0.222087   \n",
       "Albumin_and_Globulin_Ratio -0.002493 -0.216408 -0.003424        -0.206267   \n",
       "Result                      0.001859 -0.133164 -0.081349        -0.220218   \n",
       "\n",
       "                            Direct_Bilirubin  Alkaline_Phosphotase  \\\n",
       "S.NO                                0.013613             -0.007964   \n",
       "Age                                 0.006784              0.078878   \n",
       "Gender                              0.099160             -0.029368   \n",
       "Total_Bilirubin                     0.874481              0.205739   \n",
       "Direct_Bilirubin                    1.000000              0.234008   \n",
       "Alkaline_Phosphotase                0.234008              1.000000   \n",
       "Alamine_Aminotransferase            0.233180              0.124777   \n",
       "Aspartate_Aminotransferase          0.257022              0.166580   \n",
       "Total_Protiens                      0.000033             -0.027062   \n",
       "Albumin                            -0.228409             -0.163419   \n",
       "Albumin_and_Globulin_Ratio         -0.200125             -0.234166   \n",
       "Result                             -0.246273             -0.183363   \n",
       "\n",
       "                            Alamine_Aminotransferase  \\\n",
       "S.NO                                       -0.012584   \n",
       "Age                                        -0.087799   \n",
       "Gender                                      0.081339   \n",
       "Total_Bilirubin                             0.213375   \n",
       "Direct_Bilirubin                            0.233180   \n",
       "Alkaline_Phosphotase                        0.124777   \n",
       "Alamine_Aminotransferase                    1.000000   \n",
       "Aspartate_Aminotransferase                  0.791862   \n",
       "Total_Protiens                             -0.042432   \n",
       "Albumin                                    -0.028658   \n",
       "Albumin_and_Globulin_Ratio                 -0.002375   \n",
       "Result                                     -0.163117   \n",
       "\n",
       "                            Aspartate_Aminotransferase  Total_Protiens  \\\n",
       "S.NO                                         -0.009487        0.019032   \n",
       "Age                                          -0.020499       -0.186248   \n",
       "Gender                                        0.079421       -0.095149   \n",
       "Total_Bilirubin                               0.237323       -0.007906   \n",
       "Direct_Bilirubin                              0.257022        0.000033   \n",
       "Alkaline_Phosphotase                          0.166580       -0.027062   \n",
       "Alamine_Aminotransferase                      0.791862       -0.042432   \n",
       "Aspartate_Aminotransferase                    1.000000       -0.025751   \n",
       "Total_Protiens                               -0.025751        1.000000   \n",
       "Albumin                                      -0.084915        0.783112   \n",
       "Albumin_and_Globulin_Ratio                   -0.070040        0.234887   \n",
       "Result                                       -0.151834        0.033614   \n",
       "\n",
       "                             Albumin  Albumin_and_Globulin_Ratio    Result  \n",
       "S.NO                        0.006630                   -0.002493  0.001859  \n",
       "Age                        -0.264211                   -0.216408 -0.133164  \n",
       "Gender                     -0.095579                   -0.003424 -0.081349  \n",
       "Total_Bilirubin            -0.222087                   -0.206267 -0.220218  \n",
       "Direct_Bilirubin           -0.228409                   -0.200125 -0.246273  \n",
       "Alkaline_Phosphotase       -0.163419                   -0.234166 -0.183363  \n",
       "Alamine_Aminotransferase   -0.028658                   -0.002375 -0.163117  \n",
       "Aspartate_Aminotransferase -0.084915                   -0.070040 -0.151834  \n",
       "Total_Protiens              0.783112                    0.234887  0.033614  \n",
       "Albumin                     1.000000                    0.689632  0.159770  \n",
       "Albumin_and_Globulin_Ratio  0.689632                    1.000000  0.163131  \n",
       "Result                      0.159770                    0.163131  1.000000  "
      ]
     },
     "execution_count": 19,
     "metadata": {},
     "output_type": "execute_result"
    }
   ],
   "source": [
    "df.corr()"
   ]
  },
  {
   "cell_type": "code",
   "execution_count": 20,
   "metadata": {},
   "outputs": [],
   "source": [
    "X = df.drop(labels='Result', axis=1)\n",
    "#Response variable\n",
    "y = df.loc[:,'Result']    "
   ]
  },
  {
   "cell_type": "code",
   "execution_count": null,
   "metadata": {},
   "outputs": [],
   "source": []
  },
  {
   "cell_type": "code",
   "execution_count": 21,
   "metadata": {},
   "outputs": [],
   "source": [
    "#According to the cross-validated MCC scores, the random forest is the best-performing model, so now let's evaluate its performance on the test set.\n",
    "from sklearn.metrics import confusion_matrix, classification_report, matthews_corrcoef, cohen_kappa_score, accuracy_score, average_precision_score, roc_auc_score"
   ]
  },
  {
   "cell_type": "code",
   "execution_count": 22,
   "metadata": {},
   "outputs": [],
   "source": [
    "\n",
    "#We'll use a test size of 30%. We also stratify the split on the response variable, which is very important to do because there are so few fraudulent transactions.\n",
    "from sklearn.model_selection import train_test_split\n",
    "X_train, X_test, y_train, y_test = train_test_split(X, y, test_size=0.3, random_state=1, stratify=y)\n"
   ]
  },
  {
   "cell_type": "code",
   "execution_count": 23,
   "metadata": {},
   "outputs": [
    {
     "name": "stdout",
     "output_type": "stream",
     "text": [
      "\n",
      "Classification report of Logistic Regression Results:\n",
      "\n",
      "              precision    recall  f1-score   support\n",
      "\n",
      "           1       0.73      0.98      0.83      1242\n",
      "           2       0.59      0.08      0.14       495\n",
      "\n",
      "    accuracy                           0.72      1737\n",
      "   macro avg       0.66      0.53      0.49      1737\n",
      "weighted avg       0.69      0.72      0.64      1737\n",
      "\n",
      "\n",
      "Accuracy result of LogisticRegression is: 72.19343696027633\n",
      "\n",
      "Confusion Matrix result of Logistic Regression is:\n",
      " [[1214   28]\n",
      " [ 455   40]]\n",
      "\n",
      "Sensitivity :  0.9774557165861514\n",
      "\n",
      "Specificity :  0.08080808080808081\n",
      "\n",
      "Cross validation test results of accuracy:\n",
      "[0.72020725 0.72107081 0.71675302 0.72711572 0.71502591]\n",
      "\n",
      "Accuracy result of Logistic Regression is: 72.00345423143351\n"
     ]
    },
    {
     "data": {
      "image/png": "[encoded data removed]",
      "text/plain": [
       "<Figure size 360x360 with 1 Axes>"
      ]
     },
     "metadata": {
      "needs_background": "light"
     },
     "output_type": "display_data"
    }
   ],
   "source": [
    "from sklearn.linear_model import LogisticRegression\n",
    "from sklearn.model_selection import cross_val_score\n",
    "\n",
    "logR= LogisticRegression()\n",
    "\n",
    "logR.fit(X_train,y_train)\n",
    "\n",
    "predictLR = logR.predict(X_test)\n",
    "\n",
    "print(\"\")\n",
    "print('Classification report of Logistic Regression Results:')\n",
    "print(\"\")\n",
    "print(classification_report(y_test,predictLR))\n",
    "\n",
    "print(\"\")\n",
    "\n",
    "\n",
    "x = (accuracy_score(y_test,predictLR)*100)\n",
    "print('Accuracy result of LogisticRegression is:', x)\n",
    "print(\"\")\n",
    "\n",
    "cm2=confusion_matrix(y_test,predictLR)\n",
    "print('Confusion Matrix result of Logistic Regression is:\\n',cm2)\n",
    "print(\"\")\n",
    "sensitivity2 = cm2[0,0]/(cm2[0,0]+cm2[0,1])\n",
    "print('Sensitivity : ', sensitivity2 )\n",
    "print(\"\")\n",
    "specificity2 = cm2[1,1]/(cm2[1,0]+cm2[1,1])\n",
    "print('Specificity : ', specificity2)\n",
    "print(\"\")\n",
    "\n",
    "accuracy = cross_val_score(logR,X, y, scoring='accuracy')\n",
    "print('Cross validation test results of accuracy:')\n",
    "print(accuracy)\n",
    "#get the mean of each fold \n",
    "print(\"\")\n",
    "print(\"Accuracy result of Logistic Regression is:\",accuracy.mean() * 100)\n",
    "LR=accuracy.mean() * 100\n",
    "\n",
    "\n",
    "\n",
    "\n",
    "def graph():\n",
    "    import matplotlib.pyplot as plt\n",
    "    data=[LR]\n",
    "    alg=\"Logistic Regression\"\n",
    "    plt.figure(figsize=(5,5))\n",
    "    b=plt.bar(alg,data,color=(\"b\"))\n",
    "    plt.title(\"Accuracy comparison Liver Failure\",fontsize=15)\n",
    "    plt.legend(b,data,fontsize=9)\n",
    "\n",
    "graph()"
   ]
  },
  {
   "cell_type": "code",
   "execution_count": 24,
   "metadata": {
    "scrolled": true
   },
   "outputs": [
    {
     "name": "stdout",
     "output_type": "stream",
     "text": [
      "True Positive : 40\n",
      "True Negative : 455\n",
      "False Positive : 28\n",
      "False Negative : 1214\n",
      "\n",
      "True Positive Rate : 0.03189792663476874\n",
      "True Negative Rate : 0.9420289855072463\n",
      "False Positive Rate : 0.057971014492753624\n",
      "False Negative Rate : 0.9681020733652312\n",
      "\n",
      "Positive Predictive Value : 0.5882352941176471\n",
      "Negative predictive value : 0.2726183343319353\n",
      "Confusion matrix-LR:\n",
      "[[1214   28]\n",
      " [ 455   40]]\n"
     ]
    },
    {
     "data": {
      "image/png": "[encoded data removed]",
      "text/plain": [
       "<Figure size 432x288 with 2 Axes>"
      ]
     },
     "metadata": {
      "needs_background": "light"
     },
     "output_type": "display_data"
    }
   ],
   "source": [
    "TN = cm2[1][0]\n",
    "FN = cm2[0][0]\n",
    "TP = cm2[1][1]\n",
    "FP = cm2[0][1]\n",
    "print(\"True Positive :\",TP)\n",
    "print(\"True Negative :\",TN)\n",
    "print(\"False Positive :\",FP)\n",
    "print(\"False Negative :\",FN)\n",
    "print(\"\")\n",
    "TPR = TP/(TP+FN)\n",
    "TNR = TN/(TN+FP)\n",
    "FPR = FP/(FP+TN)\n",
    "FNR = FN/(TP+FN)\n",
    "print(\"True Positive Rate :\",TPR)\n",
    "print(\"True Negative Rate :\",TNR)\n",
    "print(\"False Positive Rate :\",FPR)\n",
    "print(\"False Negative Rate :\",FNR)\n",
    "print(\"\")\n",
    "PPV = TP/(TP+FP)\n",
    "NPV = TN/(TN+FN)\n",
    "print(\"Positive Predictive Value :\",PPV)\n",
    "print(\"Negative predictive value :\",NPV)\n",
    "\n",
    "\n",
    "cm2=confusion_matrix(y_test, predictLR)\n",
    "print('Confusion matrix-LR:')\n",
    "print(cm2)\n",
    "\n",
    "\n",
    "\n",
    "sns.heatmap(cm2/np.sum(cm2), annot=True, cmap = 'Blues', annot_kws={\"size\": 16},fmt='.2%')\n",
    "plt.show()"
   ]
  },
  {
   "cell_type": "code",
   "execution_count": null,
   "metadata": {},
   "outputs": [],
   "source": []
  }
 ],
 "metadata": {
  "kernelspec": {
   "display_name": "Python 3 (ipykernel)",
   "language": "python",
   "name": "python3"
  },
  "language_info": {
   "codemirror_mode": {
    "name": "ipython",
    "version": 3
   },
   "file_extension": ".py",
   "mimetype": "text/x-python",
   "name": "python",
   "nbconvert_exporter": "python",
   "pygments_lexer": "ipython3",
   "version": "3.9.7"
  }
 },
 "nbformat": 4,
 "nbformat_minor": 4
}
